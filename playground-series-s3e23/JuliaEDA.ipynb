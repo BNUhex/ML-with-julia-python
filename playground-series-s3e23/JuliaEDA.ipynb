{
 "cells": [
  {
   "cell_type": "markdown",
   "metadata": {},
   "source": []
  },
  {
   "cell_type": "code",
   "execution_count": 5,
   "metadata": {},
   "outputs": [],
   "source": [
    "using CSV\n",
    "using DataFrames\n"
   ]
  },
  {
   "cell_type": "code",
   "execution_count": 6,
   "metadata": {},
   "outputs": [
    {
     "data": {
      "text/html": [
       "<div><div style = \"float: left;\"><span>101763×22 DataFrame</span></div><div style = \"float: right;\"><span style = \"font-style: italic;\">101738 rows omitted</span></div><div style = \"clear: both;\"></div></div><div class = \"data-frame\" style = \"overflow-x: scroll;\"><table class = \"data-frame\" style = \"margin-bottom: 6px;\"><thead><tr class = \"header\"><th class = \"rowNumber\" style = \"font-weight: bold; text-align: right;\">Row</th><th style = \"text-align: left;\">loc</th><th style = \"text-align: left;\">v(g)</th><th style = \"text-align: left;\">ev(g)</th><th style = \"text-align: left;\">iv(g)</th><th style = \"text-align: left;\">n</th><th style = \"text-align: left;\">v</th><th style = \"text-align: left;\">l</th><th style = \"text-align: left;\">d</th><th style = \"text-align: left;\">i</th><th style = \"text-align: left;\">e</th><th style = \"text-align: left;\">b</th><th style = \"text-align: left;\">t</th><th style = \"text-align: left;\">lOCode</th><th style = \"text-align: left;\">lOComment</th><th style = \"text-align: left;\">lOBlank</th><th style = \"text-align: left;\">locCodeAndComment</th><th style = \"text-align: left;\">uniq_Op</th><th style = \"text-align: left;\">uniq_Opnd</th><th style = \"text-align: left;\">total_Op</th><th style = \"text-align: left;\">total_Opnd</th><th style = \"text-align: left;\">branchCount</th><th style = \"text-align: left;\">defects</th></tr><tr class = \"subheader headerLastRow\"><th class = \"rowNumber\" style = \"font-weight: bold; text-align: right;\"></th><th title = \"Float64\" style = \"text-align: left;\">Float64</th><th title = \"Float64\" style = \"text-align: left;\">Float64</th><th title = \"Float64\" style = \"text-align: left;\">Float64</th><th title = \"Float64\" style = \"text-align: left;\">Float64</th><th title = \"Float64\" style = \"text-align: left;\">Float64</th><th title = \"Float64\" style = \"text-align: left;\">Float64</th><th title = \"Float64\" style = \"text-align: left;\">Float64</th><th title = \"Float64\" style = \"text-align: left;\">Float64</th><th title = \"Float64\" style = \"text-align: left;\">Float64</th><th title = \"Float64\" style = \"text-align: left;\">Float64</th><th title = \"Float64\" style = \"text-align: left;\">Float64</th><th title = \"Float64\" style = \"text-align: left;\">Float64</th><th title = \"Int64\" style = \"text-align: left;\">Int64</th><th title = \"Int64\" style = \"text-align: left;\">Int64</th><th title = \"Int64\" style = \"text-align: left;\">Int64</th><th title = \"Int64\" style = \"text-align: left;\">Int64</th><th title = \"Float64\" style = \"text-align: left;\">Float64</th><th title = \"Float64\" style = \"text-align: left;\">Float64</th><th title = \"Float64\" style = \"text-align: left;\">Float64</th><th title = \"Float64\" style = \"text-align: left;\">Float64</th><th title = \"Float64\" style = \"text-align: left;\">Float64</th><th title = \"Bool\" style = \"text-align: left;\">Bool</th></tr></thead><tbody><tr><td class = \"rowNumber\" style = \"font-weight: bold; text-align: right;\">1</td><td style = \"text-align: right;\">22.0</td><td style = \"text-align: right;\">3.0</td><td style = \"text-align: right;\">1.0</td><td style = \"text-align: right;\">2.0</td><td style = \"text-align: right;\">60.0</td><td style = \"text-align: right;\">278.63</td><td style = \"text-align: right;\">0.06</td><td style = \"text-align: right;\">19.56</td><td style = \"text-align: right;\">14.25</td><td style = \"text-align: right;\">5448.79</td><td style = \"text-align: right;\">0.09</td><td style = \"text-align: right;\">302.71</td><td style = \"text-align: right;\">17</td><td style = \"text-align: right;\">1</td><td style = \"text-align: right;\">1</td><td style = \"text-align: right;\">0</td><td style = \"text-align: right;\">16.0</td><td style = \"text-align: right;\">9.0</td><td style = \"text-align: right;\">38.0</td><td style = \"text-align: right;\">22.0</td><td style = \"text-align: right;\">5.0</td><td style = \"text-align: right;\">false</td></tr><tr><td class = \"rowNumber\" style = \"font-weight: bold; text-align: right;\">2</td><td style = \"text-align: right;\">14.0</td><td style = \"text-align: right;\">2.0</td><td style = \"text-align: right;\">1.0</td><td style = \"text-align: right;\">2.0</td><td style = \"text-align: right;\">32.0</td><td style = \"text-align: right;\">151.27</td><td style = \"text-align: right;\">0.14</td><td style = \"text-align: right;\">7.0</td><td style = \"text-align: right;\">21.11</td><td style = \"text-align: right;\">936.71</td><td style = \"text-align: right;\">0.05</td><td style = \"text-align: right;\">52.04</td><td style = \"text-align: right;\">11</td><td style = \"text-align: right;\">0</td><td style = \"text-align: right;\">1</td><td style = \"text-align: right;\">0</td><td style = \"text-align: right;\">11.0</td><td style = \"text-align: right;\">11.0</td><td style = \"text-align: right;\">18.0</td><td style = \"text-align: right;\">14.0</td><td style = \"text-align: right;\">3.0</td><td style = \"text-align: right;\">false</td></tr><tr><td class = \"rowNumber\" style = \"font-weight: bold; text-align: right;\">3</td><td style = \"text-align: right;\">11.0</td><td style = \"text-align: right;\">2.0</td><td style = \"text-align: right;\">1.0</td><td style = \"text-align: right;\">2.0</td><td style = \"text-align: right;\">45.0</td><td style = \"text-align: right;\">197.65</td><td style = \"text-align: right;\">0.11</td><td style = \"text-align: right;\">8.05</td><td style = \"text-align: right;\">22.76</td><td style = \"text-align: right;\">1754.01</td><td style = \"text-align: right;\">0.07</td><td style = \"text-align: right;\">97.45</td><td style = \"text-align: right;\">8</td><td style = \"text-align: right;\">0</td><td style = \"text-align: right;\">1</td><td style = \"text-align: right;\">0</td><td style = \"text-align: right;\">12.0</td><td style = \"text-align: right;\">11.0</td><td style = \"text-align: right;\">28.0</td><td style = \"text-align: right;\">17.0</td><td style = \"text-align: right;\">3.0</td><td style = \"text-align: right;\">false</td></tr><tr><td class = \"rowNumber\" style = \"font-weight: bold; text-align: right;\">4</td><td style = \"text-align: right;\">8.0</td><td style = \"text-align: right;\">1.0</td><td style = \"text-align: right;\">1.0</td><td style = \"text-align: right;\">1.0</td><td style = \"text-align: right;\">23.0</td><td style = \"text-align: right;\">94.01</td><td style = \"text-align: right;\">0.19</td><td style = \"text-align: right;\">5.25</td><td style = \"text-align: right;\">17.86</td><td style = \"text-align: right;\">473.66</td><td style = \"text-align: right;\">0.03</td><td style = \"text-align: right;\">26.31</td><td style = \"text-align: right;\">4</td><td style = \"text-align: right;\">0</td><td style = \"text-align: right;\">2</td><td style = \"text-align: right;\">0</td><td style = \"text-align: right;\">8.0</td><td style = \"text-align: right;\">6.0</td><td style = \"text-align: right;\">16.0</td><td style = \"text-align: right;\">7.0</td><td style = \"text-align: right;\">1.0</td><td style = \"text-align: right;\">true</td></tr><tr><td class = \"rowNumber\" style = \"font-weight: bold; text-align: right;\">5</td><td style = \"text-align: right;\">11.0</td><td style = \"text-align: right;\">2.0</td><td style = \"text-align: right;\">1.0</td><td style = \"text-align: right;\">2.0</td><td style = \"text-align: right;\">17.0</td><td style = \"text-align: right;\">60.94</td><td style = \"text-align: right;\">0.18</td><td style = \"text-align: right;\">5.63</td><td style = \"text-align: right;\">12.44</td><td style = \"text-align: right;\">365.67</td><td style = \"text-align: right;\">0.02</td><td style = \"text-align: right;\">20.31</td><td style = \"text-align: right;\">7</td><td style = \"text-align: right;\">0</td><td style = \"text-align: right;\">2</td><td style = \"text-align: right;\">0</td><td style = \"text-align: right;\">7.0</td><td style = \"text-align: right;\">6.0</td><td style = \"text-align: right;\">10.0</td><td style = \"text-align: right;\">10.0</td><td style = \"text-align: right;\">3.0</td><td style = \"text-align: right;\">false</td></tr><tr><td class = \"rowNumber\" style = \"font-weight: bold; text-align: right;\">6</td><td style = \"text-align: right;\">23.0</td><td style = \"text-align: right;\">4.0</td><td style = \"text-align: right;\">4.0</td><td style = \"text-align: right;\">3.0</td><td style = \"text-align: right;\">69.0</td><td style = \"text-align: right;\">338.21</td><td style = \"text-align: right;\">0.07</td><td style = \"text-align: right;\">14.15</td><td style = \"text-align: right;\">22.81</td><td style = \"text-align: right;\">3772.51</td><td style = \"text-align: right;\">0.11</td><td style = \"text-align: right;\">209.42</td><td style = \"text-align: right;\">17</td><td style = \"text-align: right;\">1</td><td style = \"text-align: right;\">2</td><td style = \"text-align: right;\">0</td><td style = \"text-align: right;\">16.0</td><td style = \"text-align: right;\">10.0</td><td style = \"text-align: right;\">40.0</td><td style = \"text-align: right;\">19.0</td><td style = \"text-align: right;\">7.0</td><td style = \"text-align: right;\">false</td></tr><tr><td class = \"rowNumber\" style = \"font-weight: bold; text-align: right;\">7</td><td style = \"text-align: right;\">24.0</td><td style = \"text-align: right;\">4.0</td><td style = \"text-align: right;\">1.0</td><td style = \"text-align: right;\">4.0</td><td style = \"text-align: right;\">60.0</td><td style = \"text-align: right;\">294.41</td><td style = \"text-align: right;\">0.08</td><td style = \"text-align: right;\">12.46</td><td style = \"text-align: right;\">24.62</td><td style = \"text-align: right;\">3295.25</td><td style = \"text-align: right;\">0.1</td><td style = \"text-align: right;\">183.07</td><td style = \"text-align: right;\">19</td><td style = \"text-align: right;\">0</td><td style = \"text-align: right;\">3</td><td style = \"text-align: right;\">0</td><td style = \"text-align: right;\">14.0</td><td style = \"text-align: right;\">13.0</td><td style = \"text-align: right;\">40.0</td><td style = \"text-align: right;\">23.0</td><td style = \"text-align: right;\">7.0</td><td style = \"text-align: right;\">false</td></tr><tr><td class = \"rowNumber\" style = \"font-weight: bold; text-align: right;\">8</td><td style = \"text-align: right;\">14.0</td><td style = \"text-align: right;\">1.0</td><td style = \"text-align: right;\">1.0</td><td style = \"text-align: right;\">1.0</td><td style = \"text-align: right;\">49.0</td><td style = \"text-align: right;\">221.65</td><td style = \"text-align: right;\">0.18</td><td style = \"text-align: right;\">5.47</td><td style = \"text-align: right;\">46.06</td><td style = \"text-align: right;\">1183.48</td><td style = \"text-align: right;\">0.07</td><td style = \"text-align: right;\">65.75</td><td style = \"text-align: right;\">11</td><td style = \"text-align: right;\">0</td><td style = \"text-align: right;\">2</td><td style = \"text-align: right;\">0</td><td style = \"text-align: right;\">7.0</td><td style = \"text-align: right;\">18.0</td><td style = \"text-align: right;\">26.0</td><td style = \"text-align: right;\">23.0</td><td style = \"text-align: right;\">1.0</td><td style = \"text-align: right;\">false</td></tr><tr><td class = \"rowNumber\" style = \"font-weight: bold; text-align: right;\">9</td><td style = \"text-align: right;\">34.0</td><td style = \"text-align: right;\">10.0</td><td style = \"text-align: right;\">1.0</td><td style = \"text-align: right;\">4.0</td><td style = \"text-align: right;\">122.0</td><td style = \"text-align: right;\">684.98</td><td style = \"text-align: right;\">0.07</td><td style = \"text-align: right;\">14.33</td><td style = \"text-align: right;\">43.43</td><td style = \"text-align: right;\">9941.84</td><td style = \"text-align: right;\">0.23</td><td style = \"text-align: right;\">552.32</td><td style = \"text-align: right;\">29</td><td style = \"text-align: right;\">1</td><td style = \"text-align: right;\">3</td><td style = \"text-align: right;\">0</td><td style = \"text-align: right;\">16.0</td><td style = \"text-align: right;\">29.0</td><td style = \"text-align: right;\">75.0</td><td style = \"text-align: right;\">47.0</td><td style = \"text-align: right;\">19.0</td><td style = \"text-align: right;\">false</td></tr><tr><td class = \"rowNumber\" style = \"font-weight: bold; text-align: right;\">10</td><td style = \"text-align: right;\">9.0</td><td style = \"text-align: right;\">2.0</td><td style = \"text-align: right;\">1.0</td><td style = \"text-align: right;\">2.0</td><td style = \"text-align: right;\">16.0</td><td style = \"text-align: right;\">55.35</td><td style = \"text-align: right;\">0.11</td><td style = \"text-align: right;\">9.0</td><td style = \"text-align: right;\">6.15</td><td style = \"text-align: right;\">498.16</td><td style = \"text-align: right;\">0.02</td><td style = \"text-align: right;\">27.68</td><td style = \"text-align: right;\">4</td><td style = \"text-align: right;\">0</td><td style = \"text-align: right;\">2</td><td style = \"text-align: right;\">0</td><td style = \"text-align: right;\">9.0</td><td style = \"text-align: right;\">2.0</td><td style = \"text-align: right;\">12.0</td><td style = \"text-align: right;\">4.0</td><td style = \"text-align: right;\">3.0</td><td style = \"text-align: right;\">false</td></tr><tr><td class = \"rowNumber\" style = \"font-weight: bold; text-align: right;\">11</td><td style = \"text-align: right;\">16.0</td><td style = \"text-align: right;\">2.0</td><td style = \"text-align: right;\">1.0</td><td style = \"text-align: right;\">2.0</td><td style = \"text-align: right;\">51.0</td><td style = \"text-align: right;\">236.84</td><td style = \"text-align: right;\">0.11</td><td style = \"text-align: right;\">9.5</td><td style = \"text-align: right;\">23.01</td><td style = \"text-align: right;\">2461.32</td><td style = \"text-align: right;\">0.08</td><td style = \"text-align: right;\">136.74</td><td style = \"text-align: right;\">14</td><td style = \"text-align: right;\">0</td><td style = \"text-align: right;\">0</td><td style = \"text-align: right;\">0</td><td style = \"text-align: right;\">11.0</td><td style = \"text-align: right;\">11.0</td><td style = \"text-align: right;\">32.0</td><td style = \"text-align: right;\">19.0</td><td style = \"text-align: right;\">3.0</td><td style = \"text-align: right;\">false</td></tr><tr><td class = \"rowNumber\" style = \"font-weight: bold; text-align: right;\">12</td><td style = \"text-align: right;\">8.0</td><td style = \"text-align: right;\">1.0</td><td style = \"text-align: right;\">1.0</td><td style = \"text-align: right;\">1.0</td><td style = \"text-align: right;\">15.0</td><td style = \"text-align: right;\">51.89</td><td style = \"text-align: right;\">0.19</td><td style = \"text-align: right;\">5.25</td><td style = \"text-align: right;\">9.88</td><td style = \"text-align: right;\">272.43</td><td style = \"text-align: right;\">0.02</td><td style = \"text-align: right;\">15.14</td><td style = \"text-align: right;\">5</td><td style = \"text-align: right;\">0</td><td style = \"text-align: right;\">1</td><td style = \"text-align: right;\">0</td><td style = \"text-align: right;\">7.0</td><td style = \"text-align: right;\">4.0</td><td style = \"text-align: right;\">8.0</td><td style = \"text-align: right;\">7.0</td><td style = \"text-align: right;\">1.0</td><td style = \"text-align: right;\">true</td></tr><tr><td class = \"rowNumber\" style = \"font-weight: bold; text-align: right;\">13</td><td style = \"text-align: right;\">19.0</td><td style = \"text-align: right;\">1.0</td><td style = \"text-align: right;\">1.0</td><td style = \"text-align: right;\">1.0</td><td style = \"text-align: right;\">54.0</td><td style = \"text-align: right;\">240.81</td><td style = \"text-align: right;\">0.13</td><td style = \"text-align: right;\">7.72</td><td style = \"text-align: right;\">28.23</td><td style = \"text-align: right;\">1923.16</td><td style = \"text-align: right;\">0.08</td><td style = \"text-align: right;\">106.84</td><td style = \"text-align: right;\">11</td><td style = \"text-align: right;\">2</td><td style = \"text-align: right;\">5</td><td style = \"text-align: right;\">0</td><td style = \"text-align: right;\">9.0</td><td style = \"text-align: right;\">10.0</td><td style = \"text-align: right;\">29.0</td><td style = \"text-align: right;\">19.0</td><td style = \"text-align: right;\">1.0</td><td style = \"text-align: right;\">false</td></tr><tr><td style = \"text-align: right;\">&vellip;</td><td style = \"text-align: right;\">&vellip;</td><td style = \"text-align: right;\">&vellip;</td><td style = \"text-align: right;\">&vellip;</td><td style = \"text-align: right;\">&vellip;</td><td style = \"text-align: right;\">&vellip;</td><td style = \"text-align: right;\">&vellip;</td><td style = \"text-align: right;\">&vellip;</td><td style = \"text-align: right;\">&vellip;</td><td style = \"text-align: right;\">&vellip;</td><td style = \"text-align: right;\">&vellip;</td><td style = \"text-align: right;\">&vellip;</td><td style = \"text-align: right;\">&vellip;</td><td style = \"text-align: right;\">&vellip;</td><td style = \"text-align: right;\">&vellip;</td><td style = \"text-align: right;\">&vellip;</td><td style = \"text-align: right;\">&vellip;</td><td style = \"text-align: right;\">&vellip;</td><td style = \"text-align: right;\">&vellip;</td><td style = \"text-align: right;\">&vellip;</td><td style = \"text-align: right;\">&vellip;</td><td style = \"text-align: right;\">&vellip;</td><td style = \"text-align: right;\">&vellip;</td></tr><tr><td class = \"rowNumber\" style = \"font-weight: bold; text-align: right;\">101752</td><td style = \"text-align: right;\">85.0</td><td style = \"text-align: right;\">2.0</td><td style = \"text-align: right;\">1.0</td><td style = \"text-align: right;\">2.0</td><td style = \"text-align: right;\">222.0</td><td style = \"text-align: right;\">1211.99</td><td style = \"text-align: right;\">0.03</td><td style = \"text-align: right;\">30.02</td><td style = \"text-align: right;\">40.37</td><td style = \"text-align: right;\">36384.1</td><td style = \"text-align: right;\">0.4</td><td style = \"text-align: right;\">2021.34</td><td style = \"text-align: right;\">41</td><td style = \"text-align: right;\">26</td><td style = \"text-align: right;\">14</td><td style = \"text-align: right;\">0</td><td style = \"text-align: right;\">19.0</td><td style = \"text-align: right;\">25.0</td><td style = \"text-align: right;\">143.0</td><td style = \"text-align: right;\">79.0</td><td style = \"text-align: right;\">3.0</td><td style = \"text-align: right;\">false</td></tr><tr><td class = \"rowNumber\" style = \"font-weight: bold; text-align: right;\">101753</td><td style = \"text-align: right;\">16.0</td><td style = \"text-align: right;\">2.0</td><td style = \"text-align: right;\">1.0</td><td style = \"text-align: right;\">2.0</td><td style = \"text-align: right;\">77.0</td><td style = \"text-align: right;\">398.08</td><td style = \"text-align: right;\">0.08</td><td style = \"text-align: right;\">10.17</td><td style = \"text-align: right;\">37.6</td><td style = \"text-align: right;\">4521.86</td><td style = \"text-align: right;\">0.13</td><td style = \"text-align: right;\">251.21</td><td style = \"text-align: right;\">12</td><td style = \"text-align: right;\">0</td><td style = \"text-align: right;\">2</td><td style = \"text-align: right;\">0</td><td style = \"text-align: right;\">13.0</td><td style = \"text-align: right;\">19.0</td><td style = \"text-align: right;\">42.0</td><td style = \"text-align: right;\">35.0</td><td style = \"text-align: right;\">3.0</td><td style = \"text-align: right;\">false</td></tr><tr><td class = \"rowNumber\" style = \"font-weight: bold; text-align: right;\">101754</td><td style = \"text-align: right;\">44.0</td><td style = \"text-align: right;\">3.0</td><td style = \"text-align: right;\">3.0</td><td style = \"text-align: right;\">3.0</td><td style = \"text-align: right;\">128.0</td><td style = \"text-align: right;\">682.44</td><td style = \"text-align: right;\">0.07</td><td style = \"text-align: right;\">14.0</td><td style = \"text-align: right;\">51.93</td><td style = \"text-align: right;\">7198.75</td><td style = \"text-align: right;\">0.23</td><td style = \"text-align: right;\">399.93</td><td style = \"text-align: right;\">38</td><td style = \"text-align: right;\">0</td><td style = \"text-align: right;\">4</td><td style = \"text-align: right;\">0</td><td style = \"text-align: right;\">14.0</td><td style = \"text-align: right;\">30.0</td><td style = \"text-align: right;\">68.0</td><td style = \"text-align: right;\">54.0</td><td style = \"text-align: right;\">5.0</td><td style = \"text-align: right;\">false</td></tr><tr><td class = \"rowNumber\" style = \"font-weight: bold; text-align: right;\">101755</td><td style = \"text-align: right;\">21.0</td><td style = \"text-align: right;\">2.0</td><td style = \"text-align: right;\">1.0</td><td style = \"text-align: right;\">2.0</td><td style = \"text-align: right;\">57.0</td><td style = \"text-align: right;\">265.93</td><td style = \"text-align: right;\">0.11</td><td style = \"text-align: right;\">8.88</td><td style = \"text-align: right;\">29.93</td><td style = \"text-align: right;\">2362.67</td><td style = \"text-align: right;\">0.09</td><td style = \"text-align: right;\">131.26</td><td style = \"text-align: right;\">15</td><td style = \"text-align: right;\">0</td><td style = \"text-align: right;\">5</td><td style = \"text-align: right;\">3</td><td style = \"text-align: right;\">11.0</td><td style = \"text-align: right;\">13.0</td><td style = \"text-align: right;\">36.0</td><td style = \"text-align: right;\">21.0</td><td style = \"text-align: right;\">3.0</td><td style = \"text-align: right;\">false</td></tr><tr><td class = \"rowNumber\" style = \"font-weight: bold; text-align: right;\">101756</td><td style = \"text-align: right;\">10.0</td><td style = \"text-align: right;\">2.0</td><td style = \"text-align: right;\">1.0</td><td style = \"text-align: right;\">2.0</td><td style = \"text-align: right;\">15.0</td><td style = \"text-align: right;\">55.51</td><td style = \"text-align: right;\">0.21</td><td style = \"text-align: right;\">4.67</td><td style = \"text-align: right;\">10.28</td><td style = \"text-align: right;\">222.03</td><td style = \"text-align: right;\">0.01</td><td style = \"text-align: right;\">12.33</td><td style = \"text-align: right;\">6</td><td style = \"text-align: right;\">0</td><td style = \"text-align: right;\">1</td><td style = \"text-align: right;\">0</td><td style = \"text-align: right;\">8.0</td><td style = \"text-align: right;\">3.0</td><td style = \"text-align: right;\">10.0</td><td style = \"text-align: right;\">5.0</td><td style = \"text-align: right;\">3.0</td><td style = \"text-align: right;\">false</td></tr><tr><td class = \"rowNumber\" style = \"font-weight: bold; text-align: right;\">101757</td><td style = \"text-align: right;\">22.0</td><td style = \"text-align: right;\">5.0</td><td style = \"text-align: right;\">3.0</td><td style = \"text-align: right;\">3.0</td><td style = \"text-align: right;\">55.0</td><td style = \"text-align: right;\">264.4</td><td style = \"text-align: right;\">0.08</td><td style = \"text-align: right;\">13.0</td><td style = \"text-align: right;\">19.01</td><td style = \"text-align: right;\">3050.82</td><td style = \"text-align: right;\">0.09</td><td style = \"text-align: right;\">169.49</td><td style = \"text-align: right;\">14</td><td style = \"text-align: right;\">0</td><td style = \"text-align: right;\">2</td><td style = \"text-align: right;\">1</td><td style = \"text-align: right;\">13.0</td><td style = \"text-align: right;\">9.0</td><td style = \"text-align: right;\">34.0</td><td style = \"text-align: right;\">21.0</td><td style = \"text-align: right;\">9.0</td><td style = \"text-align: right;\">false</td></tr><tr><td class = \"rowNumber\" style = \"font-weight: bold; text-align: right;\">101758</td><td style = \"text-align: right;\">19.0</td><td style = \"text-align: right;\">3.0</td><td style = \"text-align: right;\">1.0</td><td style = \"text-align: right;\">2.0</td><td style = \"text-align: right;\">50.0</td><td style = \"text-align: right;\">222.97</td><td style = \"text-align: right;\">0.09</td><td style = \"text-align: right;\">10.67</td><td style = \"text-align: right;\">22.12</td><td style = \"text-align: right;\">2189.4</td><td style = \"text-align: right;\">0.07</td><td style = \"text-align: right;\">121.63</td><td style = \"text-align: right;\">14</td><td style = \"text-align: right;\">0</td><td style = \"text-align: right;\">3</td><td style = \"text-align: right;\">0</td><td style = \"text-align: right;\">12.0</td><td style = \"text-align: right;\">9.0</td><td style = \"text-align: right;\">30.0</td><td style = \"text-align: right;\">18.0</td><td style = \"text-align: right;\">5.0</td><td style = \"text-align: right;\">false</td></tr><tr><td class = \"rowNumber\" style = \"font-weight: bold; text-align: right;\">101759</td><td style = \"text-align: right;\">10.0</td><td style = \"text-align: right;\">2.0</td><td style = \"text-align: right;\">1.0</td><td style = \"text-align: right;\">1.0</td><td style = \"text-align: right;\">28.0</td><td style = \"text-align: right;\">122.98</td><td style = \"text-align: right;\">0.15</td><td style = \"text-align: right;\">6.6</td><td style = \"text-align: right;\">18.63</td><td style = \"text-align: right;\">811.7</td><td style = \"text-align: right;\">0.04</td><td style = \"text-align: right;\">45.09</td><td style = \"text-align: right;\">7</td><td style = \"text-align: right;\">0</td><td style = \"text-align: right;\">1</td><td style = \"text-align: right;\">0</td><td style = \"text-align: right;\">11.0</td><td style = \"text-align: right;\">8.0</td><td style = \"text-align: right;\">16.0</td><td style = \"text-align: right;\">12.0</td><td style = \"text-align: right;\">3.0</td><td style = \"text-align: right;\">false</td></tr><tr><td class = \"rowNumber\" style = \"font-weight: bold; text-align: right;\">101760</td><td style = \"text-align: right;\">27.0</td><td style = \"text-align: right;\">5.0</td><td style = \"text-align: right;\">4.0</td><td style = \"text-align: right;\">1.0</td><td style = \"text-align: right;\">107.0</td><td style = \"text-align: right;\">559.93</td><td style = \"text-align: right;\">0.06</td><td style = \"text-align: right;\">18.0</td><td style = \"text-align: right;\">34.17</td><td style = \"text-align: right;\">11268.3</td><td style = \"text-align: right;\">0.19</td><td style = \"text-align: right;\">626.01</td><td style = \"text-align: right;\">23</td><td style = \"text-align: right;\">0</td><td style = \"text-align: right;\">2</td><td style = \"text-align: right;\">0</td><td style = \"text-align: right;\">18.0</td><td style = \"text-align: right;\">20.0</td><td style = \"text-align: right;\">67.0</td><td style = \"text-align: right;\">40.0</td><td style = \"text-align: right;\">9.0</td><td style = \"text-align: right;\">false</td></tr><tr><td class = \"rowNumber\" style = \"font-weight: bold; text-align: right;\">101761</td><td style = \"text-align: right;\">26.0</td><td style = \"text-align: right;\">1.0</td><td style = \"text-align: right;\">1.0</td><td style = \"text-align: right;\">1.0</td><td style = \"text-align: right;\">83.0</td><td style = \"text-align: right;\">360.17</td><td style = \"text-align: right;\">0.04</td><td style = \"text-align: right;\">22.75</td><td style = \"text-align: right;\">12.56</td><td style = \"text-align: right;\">5893.69</td><td style = \"text-align: right;\">0.12</td><td style = \"text-align: right;\">327.43</td><td style = \"text-align: right;\">20</td><td style = \"text-align: right;\">0</td><td style = \"text-align: right;\">4</td><td style = \"text-align: right;\">0</td><td style = \"text-align: right;\">10.0</td><td style = \"text-align: right;\">8.0</td><td style = \"text-align: right;\">51.0</td><td style = \"text-align: right;\">28.0</td><td style = \"text-align: right;\">1.0</td><td style = \"text-align: right;\">false</td></tr><tr><td class = \"rowNumber\" style = \"font-weight: bold; text-align: right;\">101762</td><td style = \"text-align: right;\">10.0</td><td style = \"text-align: right;\">2.0</td><td style = \"text-align: right;\">1.0</td><td style = \"text-align: right;\">2.0</td><td style = \"text-align: right;\">43.0</td><td style = \"text-align: right;\">191.76</td><td style = \"text-align: right;\">0.15</td><td style = \"text-align: right;\">6.46</td><td style = \"text-align: right;\">29.53</td><td style = \"text-align: right;\">1534.04</td><td style = \"text-align: right;\">0.06</td><td style = \"text-align: right;\">85.22</td><td style = \"text-align: right;\">7</td><td style = \"text-align: right;\">0</td><td style = \"text-align: right;\">1</td><td style = \"text-align: right;\">0</td><td style = \"text-align: right;\">11.0</td><td style = \"text-align: right;\">14.0</td><td style = \"text-align: right;\">24.0</td><td style = \"text-align: right;\">19.0</td><td style = \"text-align: right;\">3.0</td><td style = \"text-align: right;\">false</td></tr><tr><td class = \"rowNumber\" style = \"font-weight: bold; text-align: right;\">101763</td><td style = \"text-align: right;\">136.0</td><td style = \"text-align: right;\">18.0</td><td style = \"text-align: right;\">18.0</td><td style = \"text-align: right;\">1.0</td><td style = \"text-align: right;\">296.0</td><td style = \"text-align: right;\">1704.57</td><td style = \"text-align: right;\">0.02</td><td style = \"text-align: right;\">44.82</td><td style = \"text-align: right;\">44.08</td><td style = \"text-align: right;\">77011.0</td><td style = \"text-align: right;\">0.57</td><td style = \"text-align: right;\">4278.43</td><td style = \"text-align: right;\">102</td><td style = \"text-align: right;\">1</td><td style = \"text-align: right;\">11</td><td style = \"text-align: right;\">0</td><td style = \"text-align: right;\">22.0</td><td style = \"text-align: right;\">31.0</td><td style = \"text-align: right;\">162.0</td><td style = \"text-align: right;\">135.0</td><td style = \"text-align: right;\">35.0</td><td style = \"text-align: right;\">false</td></tr></tbody></table></div>"
      ],
      "text/latex": [
       "\\begin{tabular}{r|cccccccccc}\n",
       "\t& loc & v(g) & ev(g) & iv(g) & n & v & l & d & i & \\\\\n",
       "\t\\hline\n",
       "\t& Float64 & Float64 & Float64 & Float64 & Float64 & Float64 & Float64 & Float64 & Float64 & \\\\\n",
       "\t\\hline\n",
       "\t1 & 22.0 & 3.0 & 1.0 & 2.0 & 60.0 & 278.63 & 0.06 & 19.56 & 14.25 & $\\dots$ \\\\\n",
       "\t2 & 14.0 & 2.0 & 1.0 & 2.0 & 32.0 & 151.27 & 0.14 & 7.0 & 21.11 & $\\dots$ \\\\\n",
       "\t3 & 11.0 & 2.0 & 1.0 & 2.0 & 45.0 & 197.65 & 0.11 & 8.05 & 22.76 & $\\dots$ \\\\\n",
       "\t4 & 8.0 & 1.0 & 1.0 & 1.0 & 23.0 & 94.01 & 0.19 & 5.25 & 17.86 & $\\dots$ \\\\\n",
       "\t5 & 11.0 & 2.0 & 1.0 & 2.0 & 17.0 & 60.94 & 0.18 & 5.63 & 12.44 & $\\dots$ \\\\\n",
       "\t6 & 23.0 & 4.0 & 4.0 & 3.0 & 69.0 & 338.21 & 0.07 & 14.15 & 22.81 & $\\dots$ \\\\\n",
       "\t7 & 24.0 & 4.0 & 1.0 & 4.0 & 60.0 & 294.41 & 0.08 & 12.46 & 24.62 & $\\dots$ \\\\\n",
       "\t8 & 14.0 & 1.0 & 1.0 & 1.0 & 49.0 & 221.65 & 0.18 & 5.47 & 46.06 & $\\dots$ \\\\\n",
       "\t9 & 34.0 & 10.0 & 1.0 & 4.0 & 122.0 & 684.98 & 0.07 & 14.33 & 43.43 & $\\dots$ \\\\\n",
       "\t10 & 9.0 & 2.0 & 1.0 & 2.0 & 16.0 & 55.35 & 0.11 & 9.0 & 6.15 & $\\dots$ \\\\\n",
       "\t11 & 16.0 & 2.0 & 1.0 & 2.0 & 51.0 & 236.84 & 0.11 & 9.5 & 23.01 & $\\dots$ \\\\\n",
       "\t12 & 8.0 & 1.0 & 1.0 & 1.0 & 15.0 & 51.89 & 0.19 & 5.25 & 9.88 & $\\dots$ \\\\\n",
       "\t13 & 19.0 & 1.0 & 1.0 & 1.0 & 54.0 & 240.81 & 0.13 & 7.72 & 28.23 & $\\dots$ \\\\\n",
       "\t14 & 83.0 & 11.0 & 1.0 & 4.0 & 141.0 & 879.58 & 0.06 & 17.86 & 49.25 & $\\dots$ \\\\\n",
       "\t15 & 6.0 & 1.0 & 1.0 & 1.0 & 17.0 & 58.81 & 0.19 & 5.25 & 11.2 & $\\dots$ \\\\\n",
       "\t16 & 66.0 & 8.0 & 1.0 & 5.0 & 158.0 & 835.29 & 0.03 & 28.8 & 25.06 & $\\dots$ \\\\\n",
       "\t17 & 126.0 & 13.0 & 6.0 & 7.0 & 0.0 & 0.0 & 0.0 & 0.0 & 0.0 & $\\dots$ \\\\\n",
       "\t18 & 7.0 & 1.0 & 1.0 & 1.0 & 35.0 & 148.68 & 0.09 & 11.67 & 11.9 & $\\dots$ \\\\\n",
       "\t19 & 40.0 & 9.0 & 3.0 & 7.0 & 151.0 & 823.92 & 0.04 & 23.33 & 35.54 & $\\dots$ \\\\\n",
       "\t20 & 83.0 & 9.0 & 1.0 & 8.0 & 483.0 & 2881.39 & 0.02 & 42.24 & 56.53 & $\\dots$ \\\\\n",
       "\t21 & 5.0 & 1.0 & 1.0 & 1.0 & 14.0 & 48.43 & 0.29 & 3.5 & 13.32 & $\\dots$ \\\\\n",
       "\t22 & 4.0 & 1.0 & 1.0 & 1.0 & 12.0 & 38.04 & 0.25 & 4.0 & 9.51 & $\\dots$ \\\\\n",
       "\t23 & 5.0 & 2.0 & 1.0 & 1.0 & 11.0 & 34.87 & 0.19 & 5.25 & 6.64 & $\\dots$ \\\\\n",
       "\t24 & 16.0 & 1.0 & 1.0 & 1.0 & 21.0 & 77.71 & 0.32 & 3.11 & 28.71 & $\\dots$ \\\\\n",
       "\t$\\dots$ & $\\dots$ & $\\dots$ & $\\dots$ & $\\dots$ & $\\dots$ & $\\dots$ & $\\dots$ & $\\dots$ & $\\dots$ &  \\\\\n",
       "\\end{tabular}\n"
      ],
      "text/plain": [
       "\u001b[1m101763×22 DataFrame\u001b[0m\n",
       "\u001b[1m    Row \u001b[0m│\u001b[1m loc     \u001b[0m\u001b[1m v(g)    \u001b[0m\u001b[1m ev(g)   \u001b[0m\u001b[1m iv(g)   \u001b[0m\u001b[1m n       \u001b[0m\u001b[1m v       \u001b[0m\u001b[1m l       \u001b[0m\u001b[1m d    \u001b[0m ⋯\n",
       "        │\u001b[90m Float64 \u001b[0m\u001b[90m Float64 \u001b[0m\u001b[90m Float64 \u001b[0m\u001b[90m Float64 \u001b[0m\u001b[90m Float64 \u001b[0m\u001b[90m Float64 \u001b[0m\u001b[90m Float64 \u001b[0m\u001b[90m Float\u001b[0m ⋯\n",
       "────────┼───────────────────────────────────────────────────────────────────────\n",
       "      1 │    22.0      3.0      1.0      2.0     60.0   278.63     0.06    19. ⋯\n",
       "      2 │    14.0      2.0      1.0      2.0     32.0   151.27     0.14     7.\n",
       "      3 │    11.0      2.0      1.0      2.0     45.0   197.65     0.11     8.\n",
       "      4 │     8.0      1.0      1.0      1.0     23.0    94.01     0.19     5.\n",
       "      5 │    11.0      2.0      1.0      2.0     17.0    60.94     0.18     5. ⋯\n",
       "      6 │    23.0      4.0      4.0      3.0     69.0   338.21     0.07    14.\n",
       "      7 │    24.0      4.0      1.0      4.0     60.0   294.41     0.08    12.\n",
       "      8 │    14.0      1.0      1.0      1.0     49.0   221.65     0.18     5.\n",
       "   ⋮    │    ⋮        ⋮        ⋮        ⋮        ⋮        ⋮        ⋮        ⋮  ⋱\n",
       " 101757 │    22.0      5.0      3.0      3.0     55.0   264.4      0.08    13. ⋯\n",
       " 101758 │    19.0      3.0      1.0      2.0     50.0   222.97     0.09    10.\n",
       " 101759 │    10.0      2.0      1.0      1.0     28.0   122.98     0.15     6.\n",
       " 101760 │    27.0      5.0      4.0      1.0    107.0   559.93     0.06    18.\n",
       " 101761 │    26.0      1.0      1.0      1.0     83.0   360.17     0.04    22. ⋯\n",
       " 101762 │    10.0      2.0      1.0      2.0     43.0   191.76     0.15     6.\n",
       " 101763 │   136.0     18.0     18.0      1.0    296.0  1704.57     0.02    44.\n",
       "\u001b[36m                                              15 columns and 101748 rows omitted\u001b[0m"
      ]
     },
     "metadata": {},
     "output_type": "display_data"
    }
   ],
   "source": [
    "\n",
    "df = CSV.read(\"train.csv\", DataFrame)\n",
    "df = df[!, Not(:id)]"
   ]
  },
  {
   "cell_type": "code",
   "execution_count": 11,
   "metadata": {},
   "outputs": [
    {
     "data": {
      "text/plain": [
       "22×22 Matrix{Float64}:\n",
       "  1.0        0.761509   0.544569  …   0.761662   0.762755   0.342642\n",
       "  0.761509   1.0        0.729249      0.606453   0.966702   0.301187\n",
       "  0.544569   0.729249   1.0           0.372867   0.774752   0.259928\n",
       "  0.696327   0.790553   0.545255      0.567097   0.74787    0.245618\n",
       "  0.759605   0.631041   0.390504      0.95308    0.626009   0.25808\n",
       "  0.758069   0.618267   0.367697  …   0.942189   0.608678   0.231179\n",
       " -0.388018  -0.38727   -0.325488     -0.290559  -0.416185  -0.253237\n",
       "  0.599474   0.574305   0.357735      0.784738   0.575155   0.241936\n",
       "  0.486427   0.304531   0.160594      0.740201   0.313935   0.208577\n",
       "  0.501281   0.430184   0.275179      0.566986   0.42711    0.0953659\n",
       "  ⋮                               ⋱              ⋮         \n",
       "  0.528029   0.37952    0.292689      0.548299   0.391282   0.205402\n",
       "  0.670751   0.461759   0.282293      0.772526   0.475718   0.257819\n",
       "  0.246244   0.208324   0.164563  …   0.256822   0.223694   0.13315\n",
       "  0.367068   0.389917   0.20046       0.58974    0.368815   0.178474\n",
       "  0.637582   0.532358   0.2791        0.836152   0.50965    0.246113\n",
       "  0.764612   0.639125   0.394963      0.960626   0.629949   0.250533\n",
       "  0.761662   0.606453   0.372867      1.0        0.606509   0.252752\n",
       "  0.762755   0.966702   0.774752  …   0.606509   1.0        0.322827\n",
       "  0.342642   0.301187   0.259928      0.252752   0.322827   1.0"
      ]
     },
     "metadata": {},
     "output_type": "display_data"
    }
   ],
   "source": [
    "using Plots\n",
    "using Statistics\n",
    " \n",
    "cordata=cor(Matrix(df))"
   ]
  },
  {
   "cell_type": "code",
   "execution_count": 23,
   "metadata": {},
   "outputs": [
    {
     "ename": "ErrorException",
     "evalue": "syntax: character literal contains multiple characters",
     "output_type": "error",
     "traceback": [
      "syntax: character literal contains multiple characters\n",
      "\n",
      "Stacktrace:\n",
      " [1] top-level scope\n",
      "   @ d:\\Code\\ML-with-julia-python\\playground-series-s3e23\\JuliaEDA.ipynb:7"
     ]
    }
   ],
   "source": [
    "using PyCall\n",
    "SNS = pyimport(\"seaborn\")\n",
    "plt=pyimport(\"matplotlib.pyplot\")\n",
    "pd=pyimport(\"pandas\")\n",
    "df= pd.DataFrame(cordata)\n",
    "plt.figure(figsize=(14, 7))  # 画布大小\n",
    "sns.heatmap(df.corr(), annot=True, cmap='RdYlGn', linewidths=0.4)  # 画相关性热力图\n",
    "plt.xticks(fontsize=12)  # x轴刻度大小\n",
    "plt.yticks(fontsize=12)  # y轴刻度大小\n",
    "plt.show()"
   ]
  },
  {
   "cell_type": "code",
   "execution_count": 29,
   "metadata": {},
   "outputs": [
    {
     "data": {
      "text/plain": [
       "\"C:\\\\Users\\\\16692\\\\AppData\\\\Local\\\\Programs\\\\Julia-1.9.0\\\\bin\\\\julia.exe\""
      ]
     },
     "metadata": {},
     "output_type": "display_data"
    }
   ],
   "source": []
  }
 ],
 "metadata": {
  "kernelspec": {
   "display_name": "Julia 1.9.0",
   "language": "julia",
   "name": "julia-1.9"
  },
  "language_info": {
   "file_extension": ".jl",
   "mimetype": "application/julia",
   "name": "julia",
   "version": "1.9.0"
  }
 },
 "nbformat": 4,
 "nbformat_minor": 2
}
