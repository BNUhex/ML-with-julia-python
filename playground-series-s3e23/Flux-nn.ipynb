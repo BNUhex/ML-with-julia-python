{
 "cells": [
  {
   "cell_type": "code",
   "execution_count": 1,
   "metadata": {},
   "outputs": [],
   "source": [
    "using Flux \n",
    "using Random\n",
    "using CSV\n",
    "using DataFrames"
   ]
  },
  {
   "cell_type": "code",
   "execution_count": 2,
   "metadata": {},
   "outputs": [
    {
     "data": {
      "text/html": [
       "<div><div style = \"float: left;\"><span>46128×22 DataFrame</span></div><div style = \"float: right;\"><span style = \"font-style: italic;\">46103 rows omitted</span></div><div style = \"clear: both;\"></div></div><div class = \"data-frame\" style = \"overflow-x: scroll;\"><table class = \"data-frame\" style = \"margin-bottom: 6px;\"><thead><tr class = \"header\"><th class = \"rowNumber\" style = \"font-weight: bold; text-align: right;\">Row</th><th style = \"text-align: left;\">loc</th><th style = \"text-align: left;\">v(g)</th><th style = \"text-align: left;\">ev(g)</th><th style = \"text-align: left;\">iv(g)</th><th style = \"text-align: left;\">n</th><th style = \"text-align: left;\">v</th><th style = \"text-align: left;\">l</th><th style = \"text-align: left;\">d</th><th style = \"text-align: left;\">i</th><th style = \"text-align: left;\">e</th><th style = \"text-align: left;\">b</th><th style = \"text-align: left;\">t</th><th style = \"text-align: left;\">lOCode</th><th style = \"text-align: left;\">lOComment</th><th style = \"text-align: left;\">lOBlank</th><th style = \"text-align: left;\">locCodeAndComment</th><th style = \"text-align: left;\">uniq_Op</th><th style = \"text-align: left;\">uniq_Opnd</th><th style = \"text-align: left;\">total_Op</th><th style = \"text-align: left;\">total_Opnd</th><th style = \"text-align: left;\">branchCount</th><th style = \"text-align: left;\">defects</th></tr><tr class = \"subheader headerLastRow\"><th class = \"rowNumber\" style = \"font-weight: bold; text-align: right;\"></th><th title = \"Float64\" style = \"text-align: left;\">Float64</th><th title = \"Float64\" style = \"text-align: left;\">Float64</th><th title = \"Float64\" style = \"text-align: left;\">Float64</th><th title = \"Float64\" style = \"text-align: left;\">Float64</th><th title = \"Float64\" style = \"text-align: left;\">Float64</th><th title = \"Float64\" style = \"text-align: left;\">Float64</th><th title = \"Float64\" style = \"text-align: left;\">Float64</th><th title = \"Float64\" style = \"text-align: left;\">Float64</th><th title = \"Float64\" style = \"text-align: left;\">Float64</th><th title = \"Float64\" style = \"text-align: left;\">Float64</th><th title = \"Float64\" style = \"text-align: left;\">Float64</th><th title = \"Float64\" style = \"text-align: left;\">Float64</th><th title = \"Int64\" style = \"text-align: left;\">Int64</th><th title = \"Int64\" style = \"text-align: left;\">Int64</th><th title = \"Int64\" style = \"text-align: left;\">Int64</th><th title = \"Int64\" style = \"text-align: left;\">Int64</th><th title = \"Float64\" style = \"text-align: left;\">Float64</th><th title = \"Float64\" style = \"text-align: left;\">Float64</th><th title = \"Float64\" style = \"text-align: left;\">Float64</th><th title = \"Float64\" style = \"text-align: left;\">Float64</th><th title = \"Float64\" style = \"text-align: left;\">Float64</th><th title = \"Bool\" style = \"text-align: left;\">Bool</th></tr></thead><tbody><tr><td class = \"rowNumber\" style = \"font-weight: bold; text-align: right;\">1</td><td style = \"text-align: right;\">36.0</td><td style = \"text-align: right;\">11.0</td><td style = \"text-align: right;\">4.0</td><td style = \"text-align: right;\">7.0</td><td style = \"text-align: right;\">0.0</td><td style = \"text-align: right;\">0.0</td><td style = \"text-align: right;\">0.0</td><td style = \"text-align: right;\">0.0</td><td style = \"text-align: right;\">0.0</td><td style = \"text-align: right;\">0.0</td><td style = \"text-align: right;\">0.0</td><td style = \"text-align: right;\">0.0</td><td style = \"text-align: right;\">0</td><td style = \"text-align: right;\">0</td><td style = \"text-align: right;\">0</td><td style = \"text-align: right;\">0</td><td style = \"text-align: right;\">0.0</td><td style = \"text-align: right;\">0.0</td><td style = \"text-align: right;\">0.0</td><td style = \"text-align: right;\">0.0</td><td style = \"text-align: right;\">21.0</td><td style = \"text-align: right;\">false</td></tr><tr><td class = \"rowNumber\" style = \"font-weight: bold; text-align: right;\">2</td><td style = \"text-align: right;\">6.0</td><td style = \"text-align: right;\">2.0</td><td style = \"text-align: right;\">1.0</td><td style = \"text-align: right;\">1.0</td><td style = \"text-align: right;\">18.0</td><td style = \"text-align: right;\">68.53</td><td style = \"text-align: right;\">0.25</td><td style = \"text-align: right;\">4.0</td><td style = \"text-align: right;\">15.23</td><td style = \"text-align: right;\">263.72</td><td style = \"text-align: right;\">0.02</td><td style = \"text-align: right;\">14.65</td><td style = \"text-align: right;\">3</td><td style = \"text-align: right;\">0</td><td style = \"text-align: right;\">1</td><td style = \"text-align: right;\">0</td><td style = \"text-align: right;\">8.0</td><td style = \"text-align: right;\">6.0</td><td style = \"text-align: right;\">12.0</td><td style = \"text-align: right;\">6.0</td><td style = \"text-align: right;\">3.0</td><td style = \"text-align: right;\">false</td></tr><tr><td class = \"rowNumber\" style = \"font-weight: bold; text-align: right;\">3</td><td style = \"text-align: right;\">16.0</td><td style = \"text-align: right;\">2.0</td><td style = \"text-align: right;\">1.0</td><td style = \"text-align: right;\">2.0</td><td style = \"text-align: right;\">43.0</td><td style = \"text-align: right;\">185.84</td><td style = \"text-align: right;\">0.13</td><td style = \"text-align: right;\">8.0</td><td style = \"text-align: right;\">25.66</td><td style = \"text-align: right;\">1486.74</td><td style = \"text-align: right;\">0.06</td><td style = \"text-align: right;\">82.6</td><td style = \"text-align: right;\">14</td><td style = \"text-align: right;\">0</td><td style = \"text-align: right;\">0</td><td style = \"text-align: right;\">0</td><td style = \"text-align: right;\">11.0</td><td style = \"text-align: right;\">11.0</td><td style = \"text-align: right;\">27.0</td><td style = \"text-align: right;\">16.0</td><td style = \"text-align: right;\">3.0</td><td style = \"text-align: right;\">false</td></tr><tr><td class = \"rowNumber\" style = \"font-weight: bold; text-align: right;\">4</td><td style = \"text-align: right;\">44.0</td><td style = \"text-align: right;\">7.0</td><td style = \"text-align: right;\">1.0</td><td style = \"text-align: right;\">7.0</td><td style = \"text-align: right;\">182.0</td><td style = \"text-align: right;\">910.78</td><td style = \"text-align: right;\">0.05</td><td style = \"text-align: right;\">22.17</td><td style = \"text-align: right;\">41.05</td><td style = \"text-align: right;\">20171.7</td><td style = \"text-align: right;\">0.3</td><td style = \"text-align: right;\">1120.65</td><td style = \"text-align: right;\">28</td><td style = \"text-align: right;\">18</td><td style = \"text-align: right;\">6</td><td style = \"text-align: right;\">0</td><td style = \"text-align: right;\">14.0</td><td style = \"text-align: right;\">18.0</td><td style = \"text-align: right;\">125.0</td><td style = \"text-align: right;\">57.0</td><td style = \"text-align: right;\">13.0</td><td style = \"text-align: right;\">true</td></tr><tr><td class = \"rowNumber\" style = \"font-weight: bold; text-align: right;\">5</td><td style = \"text-align: right;\">68.0</td><td style = \"text-align: right;\">9.0</td><td style = \"text-align: right;\">4.0</td><td style = \"text-align: right;\">7.0</td><td style = \"text-align: right;\">179.0</td><td style = \"text-align: right;\">1025.56</td><td style = \"text-align: right;\">0.04</td><td style = \"text-align: right;\">24.11</td><td style = \"text-align: right;\">43.69</td><td style = \"text-align: right;\">25905.1</td><td style = \"text-align: right;\">0.34</td><td style = \"text-align: right;\">1439.17</td><td style = \"text-align: right;\">48</td><td style = \"text-align: right;\">4</td><td style = \"text-align: right;\">10</td><td style = \"text-align: right;\">1</td><td style = \"text-align: right;\">24.0</td><td style = \"text-align: right;\">35.0</td><td style = \"text-align: right;\">105.0</td><td style = \"text-align: right;\">73.0</td><td style = \"text-align: right;\">17.0</td><td style = \"text-align: right;\">true</td></tr><tr><td class = \"rowNumber\" style = \"font-weight: bold; text-align: right;\">6</td><td style = \"text-align: right;\">58.0</td><td style = \"text-align: right;\">7.0</td><td style = \"text-align: right;\">4.0</td><td style = \"text-align: right;\">6.0</td><td style = \"text-align: right;\">125.0</td><td style = \"text-align: right;\">644.21</td><td style = \"text-align: right;\">0.04</td><td style = \"text-align: right;\">25.45</td><td style = \"text-align: right;\">24.19</td><td style = \"text-align: right;\">15860.2</td><td style = \"text-align: right;\">0.21</td><td style = \"text-align: right;\">881.12</td><td style = \"text-align: right;\">44</td><td style = \"text-align: right;\">7</td><td style = \"text-align: right;\">4</td><td style = \"text-align: right;\">0</td><td style = \"text-align: right;\">18.0</td><td style = \"text-align: right;\">22.0</td><td style = \"text-align: right;\">84.0</td><td style = \"text-align: right;\">45.0</td><td style = \"text-align: right;\">13.0</td><td style = \"text-align: right;\">false</td></tr><tr><td class = \"rowNumber\" style = \"font-weight: bold; text-align: right;\">7</td><td style = \"text-align: right;\">23.0</td><td style = \"text-align: right;\">3.0</td><td style = \"text-align: right;\">1.0</td><td style = \"text-align: right;\">2.0</td><td style = \"text-align: right;\">57.0</td><td style = \"text-align: right;\">276.9</td><td style = \"text-align: right;\">0.09</td><td style = \"text-align: right;\">10.15</td><td style = \"text-align: right;\">27.46</td><td style = \"text-align: right;\">3212.3</td><td style = \"text-align: right;\">0.09</td><td style = \"text-align: right;\">178.46</td><td style = \"text-align: right;\">17</td><td style = \"text-align: right;\">0</td><td style = \"text-align: right;\">4</td><td style = \"text-align: right;\">0</td><td style = \"text-align: right;\">11.0</td><td style = \"text-align: right;\">13.0</td><td style = \"text-align: right;\">33.0</td><td style = \"text-align: right;\">24.0</td><td style = \"text-align: right;\">5.0</td><td style = \"text-align: right;\">false</td></tr><tr><td class = \"rowNumber\" style = \"font-weight: bold; text-align: right;\">8</td><td style = \"text-align: right;\">11.0</td><td style = \"text-align: right;\">2.0</td><td style = \"text-align: right;\">1.0</td><td style = \"text-align: right;\">2.0</td><td style = \"text-align: right;\">25.0</td><td style = \"text-align: right;\">89.62</td><td style = \"text-align: right;\">0.14</td><td style = \"text-align: right;\">7.0</td><td style = \"text-align: right;\">12.8</td><td style = \"text-align: right;\">711.73</td><td style = \"text-align: right;\">0.03</td><td style = \"text-align: right;\">39.54</td><td style = \"text-align: right;\">9</td><td style = \"text-align: right;\">0</td><td style = \"text-align: right;\">0</td><td style = \"text-align: right;\">0</td><td style = \"text-align: right;\">7.0</td><td style = \"text-align: right;\">6.0</td><td style = \"text-align: right;\">12.0</td><td style = \"text-align: right;\">13.0</td><td style = \"text-align: right;\">3.0</td><td style = \"text-align: right;\">false</td></tr><tr><td class = \"rowNumber\" style = \"font-weight: bold; text-align: right;\">9</td><td style = \"text-align: right;\">113.0</td><td style = \"text-align: right;\">18.0</td><td style = \"text-align: right;\">11.0</td><td style = \"text-align: right;\">5.0</td><td style = \"text-align: right;\">0.0</td><td style = \"text-align: right;\">0.0</td><td style = \"text-align: right;\">0.0</td><td style = \"text-align: right;\">0.0</td><td style = \"text-align: right;\">0.0</td><td style = \"text-align: right;\">0.0</td><td style = \"text-align: right;\">0.0</td><td style = \"text-align: right;\">0.0</td><td style = \"text-align: right;\">0</td><td style = \"text-align: right;\">0</td><td style = \"text-align: right;\">0</td><td style = \"text-align: right;\">0</td><td style = \"text-align: right;\">0.0</td><td style = \"text-align: right;\">0.0</td><td style = \"text-align: right;\">0.0</td><td style = \"text-align: right;\">0.0</td><td style = \"text-align: right;\">35.0</td><td style = \"text-align: right;\">false</td></tr><tr><td class = \"rowNumber\" style = \"font-weight: bold; text-align: right;\">10</td><td style = \"text-align: right;\">121.0</td><td style = \"text-align: right;\">16.0</td><td style = \"text-align: right;\">9.0</td><td style = \"text-align: right;\">5.0</td><td style = \"text-align: right;\">413.0</td><td style = \"text-align: right;\">2522.82</td><td style = \"text-align: right;\">0.03</td><td style = \"text-align: right;\">31.2</td><td style = \"text-align: right;\">87.35</td><td style = \"text-align: right;\">69035.3</td><td style = \"text-align: right;\">0.84</td><td style = \"text-align: right;\">3835.3</td><td style = \"text-align: right;\">71</td><td style = \"text-align: right;\">25</td><td style = \"text-align: right;\">18</td><td style = \"text-align: right;\">2</td><td style = \"text-align: right;\">20.0</td><td style = \"text-align: right;\">50.0</td><td style = \"text-align: right;\">267.0</td><td style = \"text-align: right;\">156.0</td><td style = \"text-align: right;\">31.0</td><td style = \"text-align: right;\">true</td></tr><tr><td class = \"rowNumber\" style = \"font-weight: bold; text-align: right;\">11</td><td style = \"text-align: right;\">22.0</td><td style = \"text-align: right;\">6.0</td><td style = \"text-align: right;\">1.0</td><td style = \"text-align: right;\">4.0</td><td style = \"text-align: right;\">77.0</td><td style = \"text-align: right;\">307.71</td><td style = \"text-align: right;\">0.06</td><td style = \"text-align: right;\">16.67</td><td style = \"text-align: right;\">18.97</td><td style = \"text-align: right;\">4668.27</td><td style = \"text-align: right;\">0.1</td><td style = \"text-align: right;\">259.97</td><td style = \"text-align: right;\">12</td><td style = \"text-align: right;\">1</td><td style = \"text-align: right;\">4</td><td style = \"text-align: right;\">1</td><td style = \"text-align: right;\">10.0</td><td style = \"text-align: right;\">9.0</td><td style = \"text-align: right;\">46.0</td><td style = \"text-align: right;\">27.0</td><td style = \"text-align: right;\">11.0</td><td style = \"text-align: right;\">false</td></tr><tr><td class = \"rowNumber\" style = \"font-weight: bold; text-align: right;\">12</td><td style = \"text-align: right;\">286.0</td><td style = \"text-align: right;\">11.0</td><td style = \"text-align: right;\">11.0</td><td style = \"text-align: right;\">10.0</td><td style = \"text-align: right;\">1054.0</td><td style = \"text-align: right;\">7582.84</td><td style = \"text-align: right;\">0.02</td><td style = \"text-align: right;\">52.98</td><td style = \"text-align: right;\">174.35</td><td style = \"text-align: right;\">1.39426e5</td><td style = \"text-align: right;\">2.55</td><td style = \"text-align: right;\">7603.8</td><td style = \"text-align: right;\">250</td><td style = \"text-align: right;\">0</td><td style = \"text-align: right;\">33</td><td style = \"text-align: right;\">0</td><td style = \"text-align: right;\">21.0</td><td style = \"text-align: right;\">121.0</td><td style = \"text-align: right;\">563.0</td><td style = \"text-align: right;\">504.0</td><td style = \"text-align: right;\">21.0</td><td style = \"text-align: right;\">true</td></tr><tr><td class = \"rowNumber\" style = \"font-weight: bold; text-align: right;\">13</td><td style = \"text-align: right;\">35.0</td><td style = \"text-align: right;\">3.0</td><td style = \"text-align: right;\">1.0</td><td style = \"text-align: right;\">1.0</td><td style = \"text-align: right;\">107.0</td><td style = \"text-align: right;\">558.77</td><td style = \"text-align: right;\">0.06</td><td style = \"text-align: right;\">15.84</td><td style = \"text-align: right;\">37.62</td><td style = \"text-align: right;\">9337.58</td><td style = \"text-align: right;\">0.19</td><td style = \"text-align: right;\">518.75</td><td style = \"text-align: right;\">26</td><td style = \"text-align: right;\">1</td><td style = \"text-align: right;\">4</td><td style = \"text-align: right;\">0</td><td style = \"text-align: right;\">14.0</td><td style = \"text-align: right;\">22.0</td><td style = \"text-align: right;\">63.0</td><td style = \"text-align: right;\">54.0</td><td style = \"text-align: right;\">5.0</td><td style = \"text-align: right;\">false</td></tr><tr><td style = \"text-align: right;\">&vellip;</td><td style = \"text-align: right;\">&vellip;</td><td style = \"text-align: right;\">&vellip;</td><td style = \"text-align: right;\">&vellip;</td><td style = \"text-align: right;\">&vellip;</td><td style = \"text-align: right;\">&vellip;</td><td style = \"text-align: right;\">&vellip;</td><td style = \"text-align: right;\">&vellip;</td><td style = \"text-align: right;\">&vellip;</td><td style = \"text-align: right;\">&vellip;</td><td style = \"text-align: right;\">&vellip;</td><td style = \"text-align: right;\">&vellip;</td><td style = \"text-align: right;\">&vellip;</td><td style = \"text-align: right;\">&vellip;</td><td style = \"text-align: right;\">&vellip;</td><td style = \"text-align: right;\">&vellip;</td><td style = \"text-align: right;\">&vellip;</td><td style = \"text-align: right;\">&vellip;</td><td style = \"text-align: right;\">&vellip;</td><td style = \"text-align: right;\">&vellip;</td><td style = \"text-align: right;\">&vellip;</td><td style = \"text-align: right;\">&vellip;</td><td style = \"text-align: right;\">&vellip;</td></tr><tr><td class = \"rowNumber\" style = \"font-weight: bold; text-align: right;\">46117</td><td style = \"text-align: right;\">32.0</td><td style = \"text-align: right;\">3.0</td><td style = \"text-align: right;\">1.0</td><td style = \"text-align: right;\">3.0</td><td style = \"text-align: right;\">104.0</td><td style = \"text-align: right;\">537.67</td><td style = \"text-align: right;\">0.05</td><td style = \"text-align: right;\">21.18</td><td style = \"text-align: right;\">25.22</td><td style = \"text-align: right;\">11081.2</td><td style = \"text-align: right;\">0.18</td><td style = \"text-align: right;\">615.62</td><td style = \"text-align: right;\">23</td><td style = \"text-align: right;\">1</td><td style = \"text-align: right;\">6</td><td style = \"text-align: right;\">0</td><td style = \"text-align: right;\">16.0</td><td style = \"text-align: right;\">17.0</td><td style = \"text-align: right;\">57.0</td><td style = \"text-align: right;\">45.0</td><td style = \"text-align: right;\">5.0</td><td style = \"text-align: right;\">false</td></tr><tr><td class = \"rowNumber\" style = \"font-weight: bold; text-align: right;\">46118</td><td style = \"text-align: right;\">44.0</td><td style = \"text-align: right;\">10.0</td><td style = \"text-align: right;\">5.0</td><td style = \"text-align: right;\">4.0</td><td style = \"text-align: right;\">0.0</td><td style = \"text-align: right;\">0.0</td><td style = \"text-align: right;\">0.0</td><td style = \"text-align: right;\">0.0</td><td style = \"text-align: right;\">0.0</td><td style = \"text-align: right;\">0.0</td><td style = \"text-align: right;\">0.0</td><td style = \"text-align: right;\">0.0</td><td style = \"text-align: right;\">0</td><td style = \"text-align: right;\">0</td><td style = \"text-align: right;\">0</td><td style = \"text-align: right;\">0</td><td style = \"text-align: right;\">0.0</td><td style = \"text-align: right;\">0.0</td><td style = \"text-align: right;\">0.0</td><td style = \"text-align: right;\">0.0</td><td style = \"text-align: right;\">19.0</td><td style = \"text-align: right;\">true</td></tr><tr><td class = \"rowNumber\" style = \"font-weight: bold; text-align: right;\">46119</td><td style = \"text-align: right;\">36.0</td><td style = \"text-align: right;\">4.0</td><td style = \"text-align: right;\">4.0</td><td style = \"text-align: right;\">2.0</td><td style = \"text-align: right;\">62.0</td><td style = \"text-align: right;\">302.21</td><td style = \"text-align: right;\">0.07</td><td style = \"text-align: right;\">14.55</td><td style = \"text-align: right;\">19.41</td><td style = \"text-align: right;\">4015.7</td><td style = \"text-align: right;\">0.1</td><td style = \"text-align: right;\">223.09</td><td style = \"text-align: right;\">24</td><td style = \"text-align: right;\">2</td><td style = \"text-align: right;\">7</td><td style = \"text-align: right;\">0</td><td style = \"text-align: right;\">16.0</td><td style = \"text-align: right;\">11.0</td><td style = \"text-align: right;\">42.0</td><td style = \"text-align: right;\">20.0</td><td style = \"text-align: right;\">7.0</td><td style = \"text-align: right;\">false</td></tr><tr><td class = \"rowNumber\" style = \"font-weight: bold; text-align: right;\">46120</td><td style = \"text-align: right;\">84.0</td><td style = \"text-align: right;\">14.0</td><td style = \"text-align: right;\">14.0</td><td style = \"text-align: right;\">4.0</td><td style = \"text-align: right;\">252.0</td><td style = \"text-align: right;\">1409.23</td><td style = \"text-align: right;\">0.02</td><td style = \"text-align: right;\">45.6</td><td style = \"text-align: right;\">35.04</td><td style = \"text-align: right;\">59182.2</td><td style = \"text-align: right;\">0.47</td><td style = \"text-align: right;\">3278.31</td><td style = \"text-align: right;\">63</td><td style = \"text-align: right;\">1</td><td style = \"text-align: right;\">5</td><td style = \"text-align: right;\">6</td><td style = \"text-align: right;\">21.0</td><td style = \"text-align: right;\">23.0</td><td style = \"text-align: right;\">158.0</td><td style = \"text-align: right;\">84.0</td><td style = \"text-align: right;\">27.0</td><td style = \"text-align: right;\">true</td></tr><tr><td class = \"rowNumber\" style = \"font-weight: bold; text-align: right;\">46121</td><td style = \"text-align: right;\">5.0</td><td style = \"text-align: right;\">1.0</td><td style = \"text-align: right;\">1.0</td><td style = \"text-align: right;\">1.0</td><td style = \"text-align: right;\">19.0</td><td style = \"text-align: right;\">70.31</td><td style = \"text-align: right;\">0.24</td><td style = \"text-align: right;\">4.08</td><td style = \"text-align: right;\">17.22</td><td style = \"text-align: right;\">241.06</td><td style = \"text-align: right;\">0.02</td><td style = \"text-align: right;\">13.39</td><td style = \"text-align: right;\">3</td><td style = \"text-align: right;\">0</td><td style = \"text-align: right;\">0</td><td style = \"text-align: right;\">0</td><td style = \"text-align: right;\">7.0</td><td style = \"text-align: right;\">6.0</td><td style = \"text-align: right;\">8.0</td><td style = \"text-align: right;\">7.0</td><td style = \"text-align: right;\">1.0</td><td style = \"text-align: right;\">false</td></tr><tr><td class = \"rowNumber\" style = \"font-weight: bold; text-align: right;\">46122</td><td style = \"text-align: right;\">223.0</td><td style = \"text-align: right;\">26.0</td><td style = \"text-align: right;\">16.0</td><td style = \"text-align: right;\">11.0</td><td style = \"text-align: right;\">842.0</td><td style = \"text-align: right;\">596.06</td><td style = \"text-align: right;\">0.03</td><td style = \"text-align: right;\">35.92</td><td style = \"text-align: right;\">174.34</td><td style = \"text-align: right;\">2.07106e5</td><td style = \"text-align: right;\">0.2</td><td style = \"text-align: right;\">11505.9</td><td style = \"text-align: right;\">148</td><td style = \"text-align: right;\">1</td><td style = \"text-align: right;\">18</td><td style = \"text-align: right;\">0</td><td style = \"text-align: right;\">18.0</td><td style = \"text-align: right;\">115.0</td><td style = \"text-align: right;\">459.0</td><td style = \"text-align: right;\">383.0</td><td style = \"text-align: right;\">51.0</td><td style = \"text-align: right;\">true</td></tr><tr><td class = \"rowNumber\" style = \"font-weight: bold; text-align: right;\">46123</td><td style = \"text-align: right;\">22.0</td><td style = \"text-align: right;\">4.0</td><td style = \"text-align: right;\">1.0</td><td style = \"text-align: right;\">4.0</td><td style = \"text-align: right;\">59.0</td><td style = \"text-align: right;\">280.54</td><td style = \"text-align: right;\">0.1</td><td style = \"text-align: right;\">10.5</td><td style = \"text-align: right;\">26.11</td><td style = \"text-align: right;\">2913.17</td><td style = \"text-align: right;\">0.09</td><td style = \"text-align: right;\">161.84</td><td style = \"text-align: right;\">18</td><td style = \"text-align: right;\">0</td><td style = \"text-align: right;\">1</td><td style = \"text-align: right;\">0</td><td style = \"text-align: right;\">14.0</td><td style = \"text-align: right;\">15.0</td><td style = \"text-align: right;\">38.0</td><td style = \"text-align: right;\">21.0</td><td style = \"text-align: right;\">7.0</td><td style = \"text-align: right;\">false</td></tr><tr><td class = \"rowNumber\" style = \"font-weight: bold; text-align: right;\">46124</td><td style = \"text-align: right;\">29.0</td><td style = \"text-align: right;\">5.0</td><td style = \"text-align: right;\">1.0</td><td style = \"text-align: right;\">3.0</td><td style = \"text-align: right;\">128.0</td><td style = \"text-align: right;\">648.26</td><td style = \"text-align: right;\">0.09</td><td style = \"text-align: right;\">12.54</td><td style = \"text-align: right;\">49.72</td><td style = \"text-align: right;\">8126.45</td><td style = \"text-align: right;\">0.22</td><td style = \"text-align: right;\">451.47</td><td style = \"text-align: right;\">21</td><td style = \"text-align: right;\">2</td><td style = \"text-align: right;\">3</td><td style = \"text-align: right;\">0</td><td style = \"text-align: right;\">12.0</td><td style = \"text-align: right;\">25.0</td><td style = \"text-align: right;\">66.0</td><td style = \"text-align: right;\">62.0</td><td style = \"text-align: right;\">9.0</td><td style = \"text-align: right;\">true</td></tr><tr><td class = \"rowNumber\" style = \"font-weight: bold; text-align: right;\">46125</td><td style = \"text-align: right;\">23.0</td><td style = \"text-align: right;\">3.0</td><td style = \"text-align: right;\">1.0</td><td style = \"text-align: right;\">3.0</td><td style = \"text-align: right;\">61.0</td><td style = \"text-align: right;\">272.03</td><td style = \"text-align: right;\">0.09</td><td style = \"text-align: right;\">11.14</td><td style = \"text-align: right;\">25.31</td><td style = \"text-align: right;\">3142.38</td><td style = \"text-align: right;\">0.09</td><td style = \"text-align: right;\">174.58</td><td style = \"text-align: right;\">16</td><td style = \"text-align: right;\">0</td><td style = \"text-align: right;\">2</td><td style = \"text-align: right;\">0</td><td style = \"text-align: right;\">13.0</td><td style = \"text-align: right;\">14.0</td><td style = \"text-align: right;\">37.0</td><td style = \"text-align: right;\">24.0</td><td style = \"text-align: right;\">5.0</td><td style = \"text-align: right;\">false</td></tr><tr><td class = \"rowNumber\" style = \"font-weight: bold; text-align: right;\">46126</td><td style = \"text-align: right;\">32.0</td><td style = \"text-align: right;\">4.0</td><td style = \"text-align: right;\">1.0</td><td style = \"text-align: right;\">2.0</td><td style = \"text-align: right;\">77.0</td><td style = \"text-align: right;\">394.84</td><td style = \"text-align: right;\">0.05</td><td style = \"text-align: right;\">19.0</td><td style = \"text-align: right;\">19.87</td><td style = \"text-align: right;\">7907.09</td><td style = \"text-align: right;\">0.13</td><td style = \"text-align: right;\">439.17</td><td style = \"text-align: right;\">24</td><td style = \"text-align: right;\">0</td><td style = \"text-align: right;\">6</td><td style = \"text-align: right;\">0</td><td style = \"text-align: right;\">14.0</td><td style = \"text-align: right;\">13.0</td><td style = \"text-align: right;\">47.0</td><td style = \"text-align: right;\">34.0</td><td style = \"text-align: right;\">6.0</td><td style = \"text-align: right;\">false</td></tr><tr><td class = \"rowNumber\" style = \"font-weight: bold; text-align: right;\">46127</td><td style = \"text-align: right;\">117.0</td><td style = \"text-align: right;\">13.0</td><td style = \"text-align: right;\">7.0</td><td style = \"text-align: right;\">3.0</td><td style = \"text-align: right;\">190.0</td><td style = \"text-align: right;\">923.02</td><td style = \"text-align: right;\">0.05</td><td style = \"text-align: right;\">18.64</td><td style = \"text-align: right;\">49.52</td><td style = \"text-align: right;\">17204.0</td><td style = \"text-align: right;\">0.31</td><td style = \"text-align: right;\">955.78</td><td style = \"text-align: right;\">92</td><td style = \"text-align: right;\">9</td><td style = \"text-align: right;\">14</td><td style = \"text-align: right;\">0</td><td style = \"text-align: right;\">11.0</td><td style = \"text-align: right;\">18.0</td><td style = \"text-align: right;\">129.0</td><td style = \"text-align: right;\">61.0</td><td style = \"text-align: right;\">25.0</td><td style = \"text-align: right;\">true</td></tr><tr><td class = \"rowNumber\" style = \"font-weight: bold; text-align: right;\">46128</td><td style = \"text-align: right;\">110.0</td><td style = \"text-align: right;\">16.0</td><td style = \"text-align: right;\">15.0</td><td style = \"text-align: right;\">9.0</td><td style = \"text-align: right;\">298.0</td><td style = \"text-align: right;\">1653.1</td><td style = \"text-align: right;\">0.02</td><td style = \"text-align: right;\">47.25</td><td style = \"text-align: right;\">37.1</td><td style = \"text-align: right;\">82830.6</td><td style = \"text-align: right;\">0.55</td><td style = \"text-align: right;\">4601.7</td><td style = \"text-align: right;\">79</td><td style = \"text-align: right;\">19</td><td style = \"text-align: right;\">6</td><td style = \"text-align: right;\">0</td><td style = \"text-align: right;\">27.0</td><td style = \"text-align: right;\">32.0</td><td style = \"text-align: right;\">186.0</td><td style = \"text-align: right;\">112.0</td><td style = \"text-align: right;\">31.0</td><td style = \"text-align: right;\">true</td></tr></tbody></table></div>"
      ],
      "text/latex": [
       "\\begin{tabular}{r|cccccccccc}\n",
       "\t& loc & v(g) & ev(g) & iv(g) & n & v & l & d & i & \\\\\n",
       "\t\\hline\n",
       "\t& Float64 & Float64 & Float64 & Float64 & Float64 & Float64 & Float64 & Float64 & Float64 & \\\\\n",
       "\t\\hline\n",
       "\t1 & 36.0 & 11.0 & 4.0 & 7.0 & 0.0 & 0.0 & 0.0 & 0.0 & 0.0 & $\\dots$ \\\\\n",
       "\t2 & 6.0 & 2.0 & 1.0 & 1.0 & 18.0 & 68.53 & 0.25 & 4.0 & 15.23 & $\\dots$ \\\\\n",
       "\t3 & 16.0 & 2.0 & 1.0 & 2.0 & 43.0 & 185.84 & 0.13 & 8.0 & 25.66 & $\\dots$ \\\\\n",
       "\t4 & 44.0 & 7.0 & 1.0 & 7.0 & 182.0 & 910.78 & 0.05 & 22.17 & 41.05 & $\\dots$ \\\\\n",
       "\t5 & 68.0 & 9.0 & 4.0 & 7.0 & 179.0 & 1025.56 & 0.04 & 24.11 & 43.69 & $\\dots$ \\\\\n",
       "\t6 & 58.0 & 7.0 & 4.0 & 6.0 & 125.0 & 644.21 & 0.04 & 25.45 & 24.19 & $\\dots$ \\\\\n",
       "\t7 & 23.0 & 3.0 & 1.0 & 2.0 & 57.0 & 276.9 & 0.09 & 10.15 & 27.46 & $\\dots$ \\\\\n",
       "\t8 & 11.0 & 2.0 & 1.0 & 2.0 & 25.0 & 89.62 & 0.14 & 7.0 & 12.8 & $\\dots$ \\\\\n",
       "\t9 & 113.0 & 18.0 & 11.0 & 5.0 & 0.0 & 0.0 & 0.0 & 0.0 & 0.0 & $\\dots$ \\\\\n",
       "\t10 & 121.0 & 16.0 & 9.0 & 5.0 & 413.0 & 2522.82 & 0.03 & 31.2 & 87.35 & $\\dots$ \\\\\n",
       "\t11 & 22.0 & 6.0 & 1.0 & 4.0 & 77.0 & 307.71 & 0.06 & 16.67 & 18.97 & $\\dots$ \\\\\n",
       "\t12 & 286.0 & 11.0 & 11.0 & 10.0 & 1054.0 & 7582.84 & 0.02 & 52.98 & 174.35 & $\\dots$ \\\\\n",
       "\t13 & 35.0 & 3.0 & 1.0 & 1.0 & 107.0 & 558.77 & 0.06 & 15.84 & 37.62 & $\\dots$ \\\\\n",
       "\t14 & 14.0 & 2.0 & 1.0 & 1.0 & 33.0 & 122.11 & 0.12 & 8.57 & 15.9 & $\\dots$ \\\\\n",
       "\t15 & 162.0 & 7.0 & 3.0 & 4.0 & 621.0 & 3922.52 & 0.02 & 56.4 & 84.39 & $\\dots$ \\\\\n",
       "\t16 & 18.0 & 3.0 & 3.0 & 1.0 & 90.0 & 395.31 & 0.03 & 32.5 & 12.74 & $\\dots$ \\\\\n",
       "\t17 & 209.0 & 19.0 & 16.0 & 13.0 & 420.0 & 2378.34 & 0.02 & 43.84 & 58.74 & $\\dots$ \\\\\n",
       "\t18 & 45.0 & 5.0 & 3.0 & 4.0 & 166.0 & 915.37 & 0.05 & 21.71 & 42.72 & $\\dots$ \\\\\n",
       "\t19 & 76.0 & 7.0 & 1.0 & 6.0 & 0.0 & 0.0 & 0.0 & 0.0 & 0.0 & $\\dots$ \\\\\n",
       "\t20 & 37.0 & 4.0 & 1.0 & 4.0 & 83.0 & 389.83 & 0.04 & 25.38 & 15.66 & $\\dots$ \\\\\n",
       "\t21 & 65.0 & 11.0 & 6.0 & 4.0 & 160.0 & 828.3 & 0.05 & 21.69 & 40.21 & $\\dots$ \\\\\n",
       "\t22 & 31.0 & 2.0 & 1.0 & 2.0 & 86.0 & 351.52 & 0.1 & 10.5 & 33.26 & $\\dots$ \\\\\n",
       "\t23 & 79.0 & 7.0 & 4.0 & 3.0 & 208.0 & 1213.4 & 0.03 & 29.77 & 40.0 & $\\dots$ \\\\\n",
       "\t24 & 5.0 & 1.0 & 1.0 & 1.0 & 16.0 & 53.15 & 0.29 & 3.5 & 15.19 & $\\dots$ \\\\\n",
       "\t$\\dots$ & $\\dots$ & $\\dots$ & $\\dots$ & $\\dots$ & $\\dots$ & $\\dots$ & $\\dots$ & $\\dots$ & $\\dots$ &  \\\\\n",
       "\\end{tabular}\n"
      ],
      "text/plain": [
       "\u001b[1m46128×22 DataFrame\u001b[0m\n",
       "\u001b[1m   Row \u001b[0m│\u001b[1m loc     \u001b[0m\u001b[1m v(g)    \u001b[0m\u001b[1m ev(g)   \u001b[0m\u001b[1m iv(g)   \u001b[0m\u001b[1m n       \u001b[0m\u001b[1m v       \u001b[0m\u001b[1m l       \u001b[0m\u001b[1m d     \u001b[0m ⋯\n",
       "       │\u001b[90m Float64 \u001b[0m\u001b[90m Float64 \u001b[0m\u001b[90m Float64 \u001b[0m\u001b[90m Float64 \u001b[0m\u001b[90m Float64 \u001b[0m\u001b[90m Float64 \u001b[0m\u001b[90m Float64 \u001b[0m\u001b[90m Float6\u001b[0m ⋯\n",
       "───────┼────────────────────────────────────────────────────────────────────────\n",
       "     1 │    36.0     11.0      4.0      7.0      0.0     0.0      0.0      0.0 ⋯\n",
       "     2 │     6.0      2.0      1.0      1.0     18.0    68.53     0.25     4.0\n",
       "     3 │    16.0      2.0      1.0      2.0     43.0   185.84     0.13     8.0\n",
       "     4 │    44.0      7.0      1.0      7.0    182.0   910.78     0.05    22.1\n",
       "     5 │    68.0      9.0      4.0      7.0    179.0  1025.56     0.04    24.1 ⋯\n",
       "     6 │    58.0      7.0      4.0      6.0    125.0   644.21     0.04    25.4\n",
       "     7 │    23.0      3.0      1.0      2.0     57.0   276.9      0.09    10.1\n",
       "     8 │    11.0      2.0      1.0      2.0     25.0    89.62     0.14     7.0\n",
       "   ⋮   │    ⋮        ⋮        ⋮        ⋮        ⋮        ⋮        ⋮        ⋮   ⋱\n",
       " 46122 │   223.0     26.0     16.0     11.0    842.0   596.06     0.03    35.9 ⋯\n",
       " 46123 │    22.0      4.0      1.0      4.0     59.0   280.54     0.1     10.5\n",
       " 46124 │    29.0      5.0      1.0      3.0    128.0   648.26     0.09    12.5\n",
       " 46125 │    23.0      3.0      1.0      3.0     61.0   272.03     0.09    11.1\n",
       " 46126 │    32.0      4.0      1.0      2.0     77.0   394.84     0.05    19.0 ⋯\n",
       " 46127 │   117.0     13.0      7.0      3.0    190.0   923.02     0.05    18.6\n",
       " 46128 │   110.0     16.0     15.0      9.0    298.0  1653.1      0.02    47.2\n",
       "\u001b[36m                                               15 columns and 46113 rows omitted\u001b[0m"
      ]
     },
     "metadata": {},
     "output_type": "display_data"
    }
   ],
   "source": [
    "data=CSV.read(\"balanced_data.csv\", DataFrame)\n",
    "\n",
    "function split_train_test(df, train_ratio)\n",
    "    # 获取数据集的行数\n",
    "    num_rows = nrow(df)\n",
    "    \n",
    "    # 随机排列数据集的行索引\n",
    "    indices = shuffle(1:num_rows)\n",
    "    \n",
    "    # 计算训练集和测试集的大小\n",
    "    train_size = Int(floor(train_ratio * num_rows))\n",
    "    \n",
    "    # 获取训练集和测试集的索引\n",
    "    train_indices = indices[1:train_size]\n",
    "    test_indices = indices[train_size+1:end]\n",
    "    \n",
    "    # 根据索引划分数据集\n",
    "    train_set = df[train_indices, :]\n",
    "    test_set = df[test_indices, :]\n",
    "    \n",
    "    return train_set, test_set\n",
    "end\n",
    "data,ljh = split_train_test(data, 1)\n",
    "data=data[:,2:end]"
   ]
  },
  {
   "cell_type": "code",
   "execution_count": 3,
   "metadata": {},
   "outputs": [
    {
     "name": "stdout",
     "output_type": "stream",
     "text": [
      "46128\n"
     ]
    }
   ],
   "source": [
    "features=data[:,1:end-1]|>Array\n",
    "labels=data[:,end]\n",
    "println(size(features,1))"
   ]
  },
  {
   "cell_type": "code",
   "execution_count": 4,
   "metadata": {},
   "outputs": [
    {
     "data": {
      "text/plain": [
       "1-element Vector{Tuple{LinearAlgebra.Adjoint{Float64, Matrix{Float64}}, Vector{Bool}}}:\n",
       " ([36.0 6.0 … 117.0 110.0; 11.0 2.0 … 13.0 16.0; … ; 0.0 6.0 … 61.0 112.0; 21.0 3.0 … 25.0 31.0], [0, 0, 0, 1, 1, 0, 0, 0, 0, 1  …  0, 1, 0, 1, 0, 1, 0, 0, 1, 1])"
      ]
     },
     "metadata": {},
     "output_type": "display_data"
    }
   ],
   "source": [
    "\n",
    "features = features'\n",
    "data=[(features, labels)]"
   ]
  },
  {
   "cell_type": "code",
   "execution_count": 5,
   "metadata": {},
   "outputs": [
    {
     "name": "stderr",
     "output_type": "stream",
     "text": [
      "┌ Warning: Layer with Float32 parameters got Float64 input.\n",
      "│   The input will be converted, but any earlier layers may be very slow.\n",
      "│   layer = Dense(21 => 64, σ)\n",
      "│   summary(x) = 21×46128 adjoint(::Matrix{Float64}) with eltype Float64\n",
      "└ @ Flux C:\\Users\\16692\\.julia\\packages\\Flux\\u7QSl\\src\\layers\\stateless.jl:60\n"
     ]
    },
    {
     "name": "stdout",
     "output_type": "stream",
     "text": [
      "Epoch 1, Loss: 0.4479264\n",
      "Epoch 2, Loss: 0.44537723"
     ]
    },
    {
     "name": "stdout",
     "output_type": "stream",
     "text": [
      "\n"
     ]
    },
    {
     "name": "stdout",
     "output_type": "stream",
     "text": [
      "Epoch 3, Loss: 0.4426405\n"
     ]
    },
    {
     "name": "stdout",
     "output_type": "stream",
     "text": [
      "Epoch 4, Loss: 0.43958935\n"
     ]
    },
    {
     "name": "stdout",
     "output_type": "stream",
     "text": [
      "Epoch 5, Loss: 0.43623534"
     ]
    },
    {
     "name": "stdout",
     "output_type": "stream",
     "text": [
      "\n",
      "Epoch 6, Loss: 0.43265933"
     ]
    },
    {
     "name": "stdout",
     "output_type": "stream",
     "text": [
      "\n",
      "Epoch 7, Loss: 0.42877826"
     ]
    },
    {
     "name": "stdout",
     "output_type": "stream",
     "text": [
      "\n",
      "Epoch 8, Loss: 0.42429397\n"
     ]
    },
    {
     "name": "stdout",
     "output_type": "stream",
     "text": [
      "Epoch 9, Loss: 0.41901407"
     ]
    },
    {
     "name": "stdout",
     "output_type": "stream",
     "text": [
      "\n",
      "Epoch 10, Loss: 0.4126078\n"
     ]
    },
    {
     "name": "stdout",
     "output_type": "stream",
     "text": [
      "Epoch 11, Loss: 0.4070138\n"
     ]
    },
    {
     "name": "stdout",
     "output_type": "stream",
     "text": [
      "Epoch 12, Loss: 0.40047187\n"
     ]
    },
    {
     "name": "stdout",
     "output_type": "stream",
     "text": [
      "Epoch 13, Loss: 0.39357746"
     ]
    },
    {
     "name": "stdout",
     "output_type": "stream",
     "text": [
      "\n",
      "Epoch 14, Loss: 0.3874979\n"
     ]
    },
    {
     "name": "stdout",
     "output_type": "stream",
     "text": [
      "Epoch 15, Loss: 0.37889722\n"
     ]
    },
    {
     "name": "stdout",
     "output_type": "stream",
     "text": [
      "Epoch 16, Loss: 0.36547026"
     ]
    },
    {
     "name": "stdout",
     "output_type": "stream",
     "text": [
      "\n",
      "Epoch 17, Loss: 0.35765332"
     ]
    },
    {
     "name": "stdout",
     "output_type": "stream",
     "text": [
      "\n",
      "Epoch 18, Loss: 0.35119808\n"
     ]
    },
    {
     "name": "stdout",
     "output_type": "stream",
     "text": [
      "Epoch 19, Loss: 0.34449336"
     ]
    },
    {
     "name": "stdout",
     "output_type": "stream",
     "text": [
      "\n",
      "Epoch 20, Loss: 0.33753586"
     ]
    },
    {
     "name": "stdout",
     "output_type": "stream",
     "text": [
      "\n",
      "Epoch 21, Loss: 0.33021975\n"
     ]
    },
    {
     "name": "stdout",
     "output_type": "stream",
     "text": [
      "Epoch 22, Loss: 0.3221467\n"
     ]
    },
    {
     "name": "stdout",
     "output_type": "stream",
     "text": [
      "Epoch 23, Loss: 0.30991647"
     ]
    },
    {
     "name": "stdout",
     "output_type": "stream",
     "text": [
      "\n",
      "Epoch 24, Loss: 0.29103148"
     ]
    },
    {
     "name": "stdout",
     "output_type": "stream",
     "text": [
      "\n",
      "Epoch 25, Loss: 0.28411394"
     ]
    },
    {
     "name": "stdout",
     "output_type": "stream",
     "text": [
      "\n",
      "Epoch 26, Loss: 0.2772596\n"
     ]
    },
    {
     "name": "stdout",
     "output_type": "stream",
     "text": [
      "Epoch 27, Loss: 0.27202386"
     ]
    },
    {
     "name": "stdout",
     "output_type": "stream",
     "text": [
      "\n",
      "Epoch 28, Loss: 0.26721838\n"
     ]
    },
    {
     "name": "stdout",
     "output_type": "stream",
     "text": [
      "Epoch 29, Loss: 0.2628251"
     ]
    },
    {
     "name": "stdout",
     "output_type": "stream",
     "text": [
      "\n",
      "Epoch 30, Loss: 0.258895"
     ]
    },
    {
     "name": "stdout",
     "output_type": "stream",
     "text": [
      "\n",
      "Epoch 31, Loss: 0.25529608"
     ]
    },
    {
     "name": "stdout",
     "output_type": "stream",
     "text": [
      "\n",
      "Epoch 32, Loss: 0.25211325\n"
     ]
    },
    {
     "name": "stdout",
     "output_type": "stream",
     "text": [
      "Epoch 33, Loss: 0.24917692"
     ]
    },
    {
     "name": "stdout",
     "output_type": "stream",
     "text": [
      "\n",
      "Epoch 34, Loss: 0.24658275"
     ]
    },
    {
     "name": "stdout",
     "output_type": "stream",
     "text": [
      "\n",
      "Epoch 35, Loss: 0.2444914\n"
     ]
    },
    {
     "name": "stdout",
     "output_type": "stream",
     "text": [
      "Epoch 36, Loss: 0.2422924"
     ]
    },
    {
     "name": "stdout",
     "output_type": "stream",
     "text": [
      "\n",
      "Epoch 37, Loss: 0.24058148\n"
     ]
    },
    {
     "name": "stdout",
     "output_type": "stream",
     "text": [
      "Epoch 38, Loss: 0.2390277"
     ]
    },
    {
     "name": "stdout",
     "output_type": "stream",
     "text": [
      "\n",
      "Epoch 39, Loss: 0.23765953"
     ]
    },
    {
     "name": "stdout",
     "output_type": "stream",
     "text": [
      "\n",
      "Epoch 40, Loss: 0.23629643"
     ]
    },
    {
     "name": "stdout",
     "output_type": "stream",
     "text": [
      "\n",
      "Epoch 41, Loss: 0.23527277\n"
     ]
    },
    {
     "name": "stdout",
     "output_type": "stream",
     "text": [
      "Epoch 42, Loss: 0.23431453"
     ]
    },
    {
     "name": "stdout",
     "output_type": "stream",
     "text": [
      "\n",
      "Epoch 43, Loss: 0.2337233"
     ]
    },
    {
     "name": "stdout",
     "output_type": "stream",
     "text": [
      "\n",
      "Epoch 44, Loss: 0.2331313\n"
     ]
    },
    {
     "name": "stdout",
     "output_type": "stream",
     "text": [
      "Epoch 45, Loss: 0.23251155"
     ]
    },
    {
     "name": "stdout",
     "output_type": "stream",
     "text": [
      "\n",
      "Epoch 46, Loss: 0.23191845\n"
     ]
    },
    {
     "name": "stdout",
     "output_type": "stream",
     "text": [
      "Epoch 47, Loss: 0.23145224\n"
     ]
    },
    {
     "name": "stdout",
     "output_type": "stream",
     "text": [
      "Epoch 48, Loss: 0.23099501"
     ]
    },
    {
     "name": "stdout",
     "output_type": "stream",
     "text": [
      "\n",
      "Epoch 49, Loss: 0.23064472\n"
     ]
    },
    {
     "name": "stdout",
     "output_type": "stream",
     "text": [
      "Epoch 50, Loss: 0.2302402\n"
     ]
    },
    {
     "data": {
      "text/plain": [
       "tobool (generic function with 1 method)"
      ]
     },
     "metadata": {},
     "output_type": "display_data"
    }
   ],
   "source": [
    "\n",
    "  \n",
    "model = Chain(\n",
    "    Dense(size(features,1), 64, σ),\n",
    "    Dense(64, 1, σ),\n",
    "  )\n",
    "loss(x, y) = Flux.mse(model(x), y')\n",
    "\n",
    "opt = Flux.Descent(0.02)\n",
    "\n",
    "for epoch in 1:50\n",
    "  Flux.train!(loss, Flux.params(model), data, opt)\n",
    "  println(\"Epoch $epoch, Loss: $(loss(features, labels))\")\n",
    "end\n",
    "function tobool(x)\n",
    "  if x>0.5\n",
    "      return true\n",
    "  else\n",
    "      return false\n",
    "  end\n",
    "end\n"
   ]
  },
  {
   "cell_type": "code",
   "execution_count": 6,
   "metadata": {},
   "outputs": [
    {
     "data": {
      "text/plain": [
       "1×46128 Matrix{Float32}:\n",
       " 0.811128  0.463306  0.463142  0.562688  …  0.562684  0.562686  0.562688"
      ]
     },
     "metadata": {},
     "output_type": "display_data"
    }
   ],
   "source": [
    "predictions = model(features)\n",
    "\n"
   ]
  },
  {
   "cell_type": "code",
   "execution_count": 7,
   "metadata": {},
   "outputs": [
    {
     "data": {
      "text/plain": [
       "46128×1 Matrix{Float32}:\n",
       " 0.81112754\n",
       " 0.46330574\n",
       " 0.46314204\n",
       " 0.562688\n",
       " 0.562688\n",
       " 0.562688\n",
       " 0.46314204\n",
       " 0.46314266\n",
       " 0.8496317\n",
       " 0.562688\n",
       " ⋮\n",
       " 0.562688\n",
       " 0.46588907\n",
       " 0.59707445\n",
       " 0.46314204\n",
       " 0.46314204\n",
       " 0.46314204\n",
       " 0.562684\n",
       " 0.5626856\n",
       " 0.562688"
      ]
     },
     "metadata": {},
     "output_type": "display_data"
    }
   ],
   "source": [
    "predictions = predictions' |>Array "
   ]
  },
  {
   "cell_type": "code",
   "execution_count": 8,
   "metadata": {},
   "outputs": [
    {
     "data": {
      "text/plain": [
       "46128×1 BitMatrix:\n",
       " 1\n",
       " 0\n",
       " 0\n",
       " 1\n",
       " 1\n",
       " 1\n",
       " 0\n",
       " 0\n",
       " 1\n",
       " 1\n",
       " ⋮\n",
       " 1\n",
       " 0\n",
       " 1\n",
       " 0\n",
       " 0\n",
       " 0\n",
       " 1\n",
       " 1\n",
       " 1"
      ]
     },
     "metadata": {},
     "output_type": "display_data"
    }
   ],
   "source": [
    "predictions=tobool.(predictions)"
   ]
  },
  {
   "cell_type": "code",
   "execution_count": 9,
   "metadata": {},
   "outputs": [
    {
     "name": "stdout",
     "output_type": "stream",
     "text": [
      "0.6823621227887617\n"
     ]
    }
   ],
   "source": [
    "trainaccuracy = sum(predictions[:].== labels[:]) / length(labels)\n",
    "println(trainaccuracy)"
   ]
  }
 ],
 "metadata": {
  "kernelspec": {
   "display_name": "Julia 1.9.0",
   "language": "julia",
   "name": "julia-1.9"
  },
  "language_info": {
   "file_extension": ".jl",
   "mimetype": "application/julia",
   "name": "julia",
   "version": "1.9.0"
  },
  "orig_nbformat": 4
 },
 "nbformat": 4,
 "nbformat_minor": 2
}
